{
 "cells": [
  {
   "cell_type": "markdown",
   "metadata": {},
   "source": [
    "# ASTU Assignment\n",
    "\n",
    "## BY-\n",
    "### Ujjal Das - (170110007010)"
   ]
  },
  {
   "cell_type": "code",
   "execution_count": null,
   "metadata": {},
   "outputs": [],
   "source": []
  },
  {
   "cell_type": "markdown",
   "metadata": {},
   "source": []
  },
  {
   "cell_type": "code",
   "execution_count": 1,
   "metadata": {},
   "outputs": [],
   "source": [
    "import numpy as np\n",
    "import pandas as pd\n",
    "import matplotlib.pyplot as plt"
   ]
  },
  {
   "cell_type": "markdown",
   "metadata": {},
   "source": [
    "DATASET loading"
   ]
  },
  {
   "cell_type": "code",
   "execution_count": 2,
   "metadata": {},
   "outputs": [],
   "source": [
    "data = pd.read_csv(\"PCA_practice_dataset.csv\",header=None)"
   ]
  },
  {
   "cell_type": "code",
   "execution_count": 3,
   "metadata": {},
   "outputs": [
    {
     "data": {
      "text/html": [
       "<div>\n",
       "<style scoped>\n",
       "    .dataframe tbody tr th:only-of-type {\n",
       "        vertical-align: middle;\n",
       "    }\n",
       "\n",
       "    .dataframe tbody tr th {\n",
       "        vertical-align: top;\n",
       "    }\n",
       "\n",
       "    .dataframe thead th {\n",
       "        text-align: right;\n",
       "    }\n",
       "</style>\n",
       "<table border=\"1\" class=\"dataframe\">\n",
       "  <thead>\n",
       "    <tr style=\"text-align: right;\">\n",
       "      <th></th>\n",
       "      <th>0</th>\n",
       "      <th>1</th>\n",
       "      <th>2</th>\n",
       "      <th>3</th>\n",
       "      <th>4</th>\n",
       "      <th>5</th>\n",
       "      <th>6</th>\n",
       "      <th>7</th>\n",
       "      <th>8</th>\n",
       "      <th>9</th>\n",
       "      <th>...</th>\n",
       "      <th>25</th>\n",
       "      <th>26</th>\n",
       "      <th>27</th>\n",
       "      <th>28</th>\n",
       "      <th>29</th>\n",
       "      <th>30</th>\n",
       "      <th>31</th>\n",
       "      <th>32</th>\n",
       "      <th>33</th>\n",
       "      <th>34</th>\n",
       "    </tr>\n",
       "  </thead>\n",
       "  <tbody>\n",
       "    <tr>\n",
       "      <th>0</th>\n",
       "      <td>-0.031250</td>\n",
       "      <td>0.236364</td>\n",
       "      <td>0.238095</td>\n",
       "      <td>-0.090909</td>\n",
       "      <td>0.000000</td>\n",
       "      <td>0.381818</td>\n",
       "      <td>0.326316</td>\n",
       "      <td>-0.015625</td>\n",
       "      <td>-0.125000</td>\n",
       "      <td>0.553398</td>\n",
       "      <td>...</td>\n",
       "      <td>0.576923</td>\n",
       "      <td>0.471264</td>\n",
       "      <td>-0.033333</td>\n",
       "      <td>-0.046154</td>\n",
       "      <td>0.524752</td>\n",
       "      <td>0.410526</td>\n",
       "      <td>-0.015625</td>\n",
       "      <td>-0.187500</td>\n",
       "      <td>0.495146</td>\n",
       "      <td>0.515789</td>\n",
       "    </tr>\n",
       "    <tr>\n",
       "      <th>1</th>\n",
       "      <td>-0.031250</td>\n",
       "      <td>0.309091</td>\n",
       "      <td>0.380952</td>\n",
       "      <td>0.074380</td>\n",
       "      <td>0.129032</td>\n",
       "      <td>0.472727</td>\n",
       "      <td>0.557895</td>\n",
       "      <td>0.078125</td>\n",
       "      <td>-0.031250</td>\n",
       "      <td>0.398058</td>\n",
       "      <td>...</td>\n",
       "      <td>0.519231</td>\n",
       "      <td>0.425287</td>\n",
       "      <td>0.000000</td>\n",
       "      <td>0.138462</td>\n",
       "      <td>0.663366</td>\n",
       "      <td>0.368421</td>\n",
       "      <td>0.015625</td>\n",
       "      <td>0.125000</td>\n",
       "      <td>0.533981</td>\n",
       "      <td>0.368421</td>\n",
       "    </tr>\n",
       "    <tr>\n",
       "      <th>2</th>\n",
       "      <td>-0.031250</td>\n",
       "      <td>0.381818</td>\n",
       "      <td>0.261905</td>\n",
       "      <td>-0.107438</td>\n",
       "      <td>0.000000</td>\n",
       "      <td>0.527273</td>\n",
       "      <td>0.326316</td>\n",
       "      <td>0.046875</td>\n",
       "      <td>-0.031250</td>\n",
       "      <td>0.631068</td>\n",
       "      <td>...</td>\n",
       "      <td>0.384615</td>\n",
       "      <td>0.103448</td>\n",
       "      <td>-0.250000</td>\n",
       "      <td>-0.138462</td>\n",
       "      <td>0.425743</td>\n",
       "      <td>0.263158</td>\n",
       "      <td>-0.109375</td>\n",
       "      <td>-0.031250</td>\n",
       "      <td>0.650485</td>\n",
       "      <td>0.452632</td>\n",
       "    </tr>\n",
       "    <tr>\n",
       "      <th>3</th>\n",
       "      <td>-0.031250</td>\n",
       "      <td>0.381818</td>\n",
       "      <td>0.285714</td>\n",
       "      <td>-0.123967</td>\n",
       "      <td>-0.129032</td>\n",
       "      <td>0.309091</td>\n",
       "      <td>0.073684</td>\n",
       "      <td>-0.156250</td>\n",
       "      <td>0.093750</td>\n",
       "      <td>0.398058</td>\n",
       "      <td>...</td>\n",
       "      <td>0.519231</td>\n",
       "      <td>0.425287</td>\n",
       "      <td>-0.050000</td>\n",
       "      <td>-0.107692</td>\n",
       "      <td>0.485149</td>\n",
       "      <td>0.368421</td>\n",
       "      <td>-0.031250</td>\n",
       "      <td>-0.250000</td>\n",
       "      <td>0.203883</td>\n",
       "      <td>0.094737</td>\n",
       "    </tr>\n",
       "    <tr>\n",
       "      <th>4</th>\n",
       "      <td>-0.031250</td>\n",
       "      <td>0.381818</td>\n",
       "      <td>0.357143</td>\n",
       "      <td>-0.024793</td>\n",
       "      <td>-0.096774</td>\n",
       "      <td>0.454545</td>\n",
       "      <td>0.431579</td>\n",
       "      <td>-0.015625</td>\n",
       "      <td>-0.250000</td>\n",
       "      <td>0.398058</td>\n",
       "      <td>...</td>\n",
       "      <td>0.480769</td>\n",
       "      <td>0.471264</td>\n",
       "      <td>-0.033333</td>\n",
       "      <td>-0.169231</td>\n",
       "      <td>0.524752</td>\n",
       "      <td>0.515789</td>\n",
       "      <td>-0.015625</td>\n",
       "      <td>-0.281250</td>\n",
       "      <td>0.495146</td>\n",
       "      <td>0.410526</td>\n",
       "    </tr>\n",
       "    <tr>\n",
       "      <th>...</th>\n",
       "      <td>...</td>\n",
       "      <td>...</td>\n",
       "      <td>...</td>\n",
       "      <td>...</td>\n",
       "      <td>...</td>\n",
       "      <td>...</td>\n",
       "      <td>...</td>\n",
       "      <td>...</td>\n",
       "      <td>...</td>\n",
       "      <td>...</td>\n",
       "      <td>...</td>\n",
       "      <td>...</td>\n",
       "      <td>...</td>\n",
       "      <td>...</td>\n",
       "      <td>...</td>\n",
       "      <td>...</td>\n",
       "      <td>...</td>\n",
       "      <td>...</td>\n",
       "      <td>...</td>\n",
       "      <td>...</td>\n",
       "      <td>...</td>\n",
       "    </tr>\n",
       "    <tr>\n",
       "      <th>8037</th>\n",
       "      <td>0.088958</td>\n",
       "      <td>0.016323</td>\n",
       "      <td>-0.213069</td>\n",
       "      <td>-0.376970</td>\n",
       "      <td>0.117490</td>\n",
       "      <td>0.074181</td>\n",
       "      <td>-0.182175</td>\n",
       "      <td>-0.286841</td>\n",
       "      <td>0.213958</td>\n",
       "      <td>0.240733</td>\n",
       "      <td>...</td>\n",
       "      <td>-0.120300</td>\n",
       "      <td>-0.329808</td>\n",
       "      <td>-0.370927</td>\n",
       "      <td>-0.015385</td>\n",
       "      <td>0.135798</td>\n",
       "      <td>-0.234572</td>\n",
       "      <td>-0.281250</td>\n",
       "      <td>0.093750</td>\n",
       "      <td>0.058469</td>\n",
       "      <td>-0.158971</td>\n",
       "    </tr>\n",
       "    <tr>\n",
       "      <th>8038</th>\n",
       "      <td>-0.243556</td>\n",
       "      <td>-0.092159</td>\n",
       "      <td>-0.477827</td>\n",
       "      <td>-0.536054</td>\n",
       "      <td>-0.094557</td>\n",
       "      <td>-0.092159</td>\n",
       "      <td>-0.411973</td>\n",
       "      <td>-0.498926</td>\n",
       "      <td>-0.122852</td>\n",
       "      <td>-0.027792</td>\n",
       "      <td>...</td>\n",
       "      <td>0.077584</td>\n",
       "      <td>-0.261208</td>\n",
       "      <td>-0.527032</td>\n",
       "      <td>-0.012212</td>\n",
       "      <td>0.188800</td>\n",
       "      <td>-0.260264</td>\n",
       "      <td>-0.405176</td>\n",
       "      <td>-0.032324</td>\n",
       "      <td>0.009709</td>\n",
       "      <td>-0.263158</td>\n",
       "    </tr>\n",
       "    <tr>\n",
       "      <th>8039</th>\n",
       "      <td>-0.136975</td>\n",
       "      <td>-0.068480</td>\n",
       "      <td>-0.466067</td>\n",
       "      <td>-0.504132</td>\n",
       "      <td>-0.006181</td>\n",
       "      <td>-0.054545</td>\n",
       "      <td>-0.233154</td>\n",
       "      <td>-0.409244</td>\n",
       "      <td>-0.061188</td>\n",
       "      <td>-0.067961</td>\n",
       "      <td>...</td>\n",
       "      <td>-0.168585</td>\n",
       "      <td>-0.566658</td>\n",
       "      <td>-0.532634</td>\n",
       "      <td>-0.279224</td>\n",
       "      <td>-0.223097</td>\n",
       "      <td>-0.539991</td>\n",
       "      <td>-0.534244</td>\n",
       "      <td>-0.181512</td>\n",
       "      <td>-0.053079</td>\n",
       "      <td>-0.416328</td>\n",
       "    </tr>\n",
       "    <tr>\n",
       "      <th>8040</th>\n",
       "      <td>-0.163077</td>\n",
       "      <td>-0.090909</td>\n",
       "      <td>-0.476190</td>\n",
       "      <td>-0.517050</td>\n",
       "      <td>-0.096774</td>\n",
       "      <td>-0.090909</td>\n",
       "      <td>-0.359223</td>\n",
       "      <td>-0.437500</td>\n",
       "      <td>-0.250000</td>\n",
       "      <td>-0.029126</td>\n",
       "      <td>...</td>\n",
       "      <td>0.130414</td>\n",
       "      <td>-0.292378</td>\n",
       "      <td>-0.450000</td>\n",
       "      <td>-0.052876</td>\n",
       "      <td>0.029703</td>\n",
       "      <td>-0.288810</td>\n",
       "      <td>-0.406250</td>\n",
       "      <td>-0.031250</td>\n",
       "      <td>0.087379</td>\n",
       "      <td>-0.263158</td>\n",
       "    </tr>\n",
       "    <tr>\n",
       "      <th>8041</th>\n",
       "      <td>-0.166118</td>\n",
       "      <td>-0.164594</td>\n",
       "      <td>-0.556392</td>\n",
       "      <td>-0.647674</td>\n",
       "      <td>-0.169776</td>\n",
       "      <td>-0.150238</td>\n",
       "      <td>-0.585595</td>\n",
       "      <td>-0.604441</td>\n",
       "      <td>-0.166118</td>\n",
       "      <td>-0.067961</td>\n",
       "      <td>...</td>\n",
       "      <td>0.056679</td>\n",
       "      <td>-0.333333</td>\n",
       "      <td>-0.577192</td>\n",
       "      <td>-0.138462</td>\n",
       "      <td>0.002605</td>\n",
       "      <td>-0.268696</td>\n",
       "      <td>-0.505757</td>\n",
       "      <td>-0.126647</td>\n",
       "      <td>-0.070008</td>\n",
       "      <td>-0.326316</td>\n",
       "    </tr>\n",
       "  </tbody>\n",
       "</table>\n",
       "<p>8042 rows × 35 columns</p>\n",
       "</div>"
      ],
      "text/plain": [
       "            0         1         2         3         4         5         6   \\\n",
       "0    -0.031250  0.236364  0.238095 -0.090909  0.000000  0.381818  0.326316   \n",
       "1    -0.031250  0.309091  0.380952  0.074380  0.129032  0.472727  0.557895   \n",
       "2    -0.031250  0.381818  0.261905 -0.107438  0.000000  0.527273  0.326316   \n",
       "3    -0.031250  0.381818  0.285714 -0.123967 -0.129032  0.309091  0.073684   \n",
       "4    -0.031250  0.381818  0.357143 -0.024793 -0.096774  0.454545  0.431579   \n",
       "...        ...       ...       ...       ...       ...       ...       ...   \n",
       "8037  0.088958  0.016323 -0.213069 -0.376970  0.117490  0.074181 -0.182175   \n",
       "8038 -0.243556 -0.092159 -0.477827 -0.536054 -0.094557 -0.092159 -0.411973   \n",
       "8039 -0.136975 -0.068480 -0.466067 -0.504132 -0.006181 -0.054545 -0.233154   \n",
       "8040 -0.163077 -0.090909 -0.476190 -0.517050 -0.096774 -0.090909 -0.359223   \n",
       "8041 -0.166118 -0.164594 -0.556392 -0.647674 -0.169776 -0.150238 -0.585595   \n",
       "\n",
       "            7         8         9   ...        25        26        27  \\\n",
       "0    -0.015625 -0.125000  0.553398  ...  0.576923  0.471264 -0.033333   \n",
       "1     0.078125 -0.031250  0.398058  ...  0.519231  0.425287  0.000000   \n",
       "2     0.046875 -0.031250  0.631068  ...  0.384615  0.103448 -0.250000   \n",
       "3    -0.156250  0.093750  0.398058  ...  0.519231  0.425287 -0.050000   \n",
       "4    -0.015625 -0.250000  0.398058  ...  0.480769  0.471264 -0.033333   \n",
       "...        ...       ...       ...  ...       ...       ...       ...   \n",
       "8037 -0.286841  0.213958  0.240733  ... -0.120300 -0.329808 -0.370927   \n",
       "8038 -0.498926 -0.122852 -0.027792  ...  0.077584 -0.261208 -0.527032   \n",
       "8039 -0.409244 -0.061188 -0.067961  ... -0.168585 -0.566658 -0.532634   \n",
       "8040 -0.437500 -0.250000 -0.029126  ...  0.130414 -0.292378 -0.450000   \n",
       "8041 -0.604441 -0.166118 -0.067961  ...  0.056679 -0.333333 -0.577192   \n",
       "\n",
       "            28        29        30        31        32        33        34  \n",
       "0    -0.046154  0.524752  0.410526 -0.015625 -0.187500  0.495146  0.515789  \n",
       "1     0.138462  0.663366  0.368421  0.015625  0.125000  0.533981  0.368421  \n",
       "2    -0.138462  0.425743  0.263158 -0.109375 -0.031250  0.650485  0.452632  \n",
       "3    -0.107692  0.485149  0.368421 -0.031250 -0.250000  0.203883  0.094737  \n",
       "4    -0.169231  0.524752  0.515789 -0.015625 -0.281250  0.495146  0.410526  \n",
       "...        ...       ...       ...       ...       ...       ...       ...  \n",
       "8037 -0.015385  0.135798 -0.234572 -0.281250  0.093750  0.058469 -0.158971  \n",
       "8038 -0.012212  0.188800 -0.260264 -0.405176 -0.032324  0.009709 -0.263158  \n",
       "8039 -0.279224 -0.223097 -0.539991 -0.534244 -0.181512 -0.053079 -0.416328  \n",
       "8040 -0.052876  0.029703 -0.288810 -0.406250 -0.031250  0.087379 -0.263158  \n",
       "8041 -0.138462  0.002605 -0.268696 -0.505757 -0.126647 -0.070008 -0.326316  \n",
       "\n",
       "[8042 rows x 35 columns]"
      ]
     },
     "execution_count": 3,
     "metadata": {},
     "output_type": "execute_result"
    }
   ],
   "source": [
    "data"
   ]
  },
  {
   "cell_type": "markdown",
   "metadata": {},
   "source": [
    "### Covariance matrix of data"
   ]
  },
  {
   "cell_type": "code",
   "execution_count": 4,
   "metadata": {},
   "outputs": [],
   "source": [
    "cov = np.cov(data)"
   ]
  },
  {
   "cell_type": "code",
   "execution_count": 5,
   "metadata": {},
   "outputs": [
    {
     "data": {
      "text/plain": [
       "(8042, 8042)"
      ]
     },
     "execution_count": 5,
     "metadata": {},
     "output_type": "execute_result"
    }
   ],
   "source": [
    "cov.shape"
   ]
  },
  {
   "cell_type": "markdown",
   "metadata": {},
   "source": [
    "### Eigenvalues and Eigenvectors of covariance matrix"
   ]
  },
  {
   "cell_type": "code",
   "execution_count": 6,
   "metadata": {},
   "outputs": [],
   "source": [
    "e_val,e_vec = np.linalg.eig(cov)"
   ]
  },
  {
   "cell_type": "code",
   "execution_count": 7,
   "metadata": {},
   "outputs": [
    {
     "data": {
      "text/plain": [
       "(8042,)"
      ]
     },
     "execution_count": 7,
     "metadata": {},
     "output_type": "execute_result"
    }
   ],
   "source": [
    "e_val.shape"
   ]
  },
  {
   "cell_type": "code",
   "execution_count": 8,
   "metadata": {},
   "outputs": [],
   "source": [
    "eig_vec_ls = []\n",
    "for i in range(e_vec.shape[1]):\n",
    "    e = np.matrix(data).T@e_vec[:,i]\n",
    "    e = e/e_val[i]\n",
    "    eig_vec_ls.append(np.ravel(e))"
   ]
  },
  {
   "cell_type": "markdown",
   "metadata": {},
   "source": [
    "## Principal Components"
   ]
  },
  {
   "cell_type": "code",
   "execution_count": 46,
   "metadata": {},
   "outputs": [],
   "source": [
    "sort_index = np.argsort(e_val)\n",
    "t_val = np.arange(0.9,0.98,0.01)\n",
    "t_val = t_val.round(2)\n",
    "sort_index = sort_index[::-1]\n",
    "e_val_sum = np.sum(e_val)\n",
    "temp_sum=0\n",
    "prin_e_val=[]\n",
    "prin_e_vec=[]\n",
    "t=0.9\n",
    "i=0\n",
    "prin_comp=[]\n",
    "while t<0.98:\n",
    "    while temp_sum<t*e_val_sum :\n",
    "        prin_e_val.append(e_val[sort_index[i]])\n",
    "        prin_e_vec.append(eig_vec_ls[sort_index[i]])\n",
    "        temp_sum += e_val[sort_index[i]]\n",
    "        i += 1\n",
    "    prin_comp.append(i)\n",
    "    t+=0.01"
   ]
  },
  {
   "cell_type": "code",
   "execution_count": 47,
   "metadata": {},
   "outputs": [
    {
     "data": {
      "text/plain": [
       "[4, 5, 5, 6, 6, 7, 7, 9]"
      ]
     },
     "execution_count": 47,
     "metadata": {},
     "output_type": "execute_result"
    }
   ],
   "source": [
    "prin_comp"
   ]
  },
  {
   "cell_type": "code",
   "execution_count": 49,
   "metadata": {},
   "outputs": [
    {
     "name": "stdout",
     "output_type": "stream",
     "text": [
      "Number of principal components at threshold 0.9 is 4\n",
      "Number of principal components at threshold 0.91 is 5\n",
      "Number of principal components at threshold 0.92 is 5\n",
      "Number of principal components at threshold 0.93 is 6\n",
      "Number of principal components at threshold 0.94 is 6\n",
      "Number of principal components at threshold 0.95 is 7\n",
      "Number of principal components at threshold 0.96 is 7\n",
      "Number of principal components at threshold 0.97 is 9\n"
     ]
    }
   ],
   "source": [
    "for i in range(len(t_val)):\n",
    "    print(\"Number of principal components at threshold {} is {}\".format(t_val[i],prin_comp[i]))"
   ]
  },
  {
   "cell_type": "markdown",
   "metadata": {},
   "source": [
    "# Scree Plot"
   ]
  },
  {
   "cell_type": "markdown",
   "metadata": {},
   "source": [
    "Plotting number of principal components against threshold values"
   ]
  },
  {
   "cell_type": "code",
   "execution_count": 37,
   "metadata": {},
   "outputs": [
    {
     "data": {
      "image/png": "[encoded data removed]",
      "text/plain": [
       "<Figure size 432x288 with 1 Axes>"
      ]
     },
     "metadata": {
      "needs_background": "light"
     },
     "output_type": "display_data"
    }
   ],
   "source": [
    "plt.plot(prin_comp,t_val)\n",
    "plt.title(\"Scree Plot\")\n",
    "plt.xlabel(\"Number of principal components\")\n",
    "plt.ylabel(\"Threshold values\")\n",
    "plt.show()"
   ]
  }
 ],
 "metadata": {
  "kernelspec": {
   "display_name": "Python 3",
   "language": "python",
   "name": "python3"
  },
  "language_info": {
   "codemirror_mode": {
    "name": "ipython",
    "version": 3
   },
   "file_extension": ".py",
   "mimetype": "text/x-python",
   "name": "python",
   "nbconvert_exporter": "python",
   "pygments_lexer": "ipython3",
   "version": "3.8.3"
  }
 },
 "nbformat": 4,
 "nbformat_minor": 4
}
